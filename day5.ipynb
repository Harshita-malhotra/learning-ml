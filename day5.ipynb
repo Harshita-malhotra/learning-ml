{
 "cells": [
  {
   "cell_type": "code",
   "execution_count": 3,
   "id": "78f8d01a",
   "metadata": {},
   "outputs": [
    {
     "name": "stdout",
     "output_type": "stream",
     "text": [
      "Hello, Harshita!\n"
     ]
    }
   ],
   "source": [
    "def greet(name):\n",
    "    print(\"Hello, \"+name+ \"!\")\n",
    "greet(\"Harshita\")"
   ]
  },
  {
   "cell_type": "code",
   "execution_count": 4,
   "id": "66ce3d30",
   "metadata": {},
   "outputs": [
    {
     "name": "stdout",
     "output_type": "stream",
     "text": [
      "11\n"
     ]
    }
   ],
   "source": [
    "def add(a,b):\n",
    "    sum=a+b\n",
    "    print(sum)\n",
    "add(5,6)"
   ]
  },
  {
   "cell_type": "code",
   "execution_count": 5,
   "id": "2b4198fe",
   "metadata": {},
   "outputs": [
    {
     "name": "stdout",
     "output_type": "stream",
     "text": [
      "8\n"
     ]
    }
   ],
   "source": [
    "def add(a,b):\n",
    "    sum=a+b\n",
    "    return sum\n",
    "print(add(2,6))"
   ]
  },
  {
   "cell_type": "code",
   "execution_count": 6,
   "id": "4fc18bbc",
   "metadata": {},
   "outputs": [
    {
     "data": {
      "text/plain": [
       "25"
      ]
     },
     "execution_count": 6,
     "metadata": {},
     "output_type": "execute_result"
    }
   ],
   "source": [
    "def exponent(a,b=2):\n",
    "    c=a**b\n",
    "    return c\n",
    "exponent(5)"
   ]
  },
  {
   "cell_type": "code",
   "execution_count": 8,
   "id": "fc7a78da",
   "metadata": {},
   "outputs": [
    {
     "data": {
      "text/plain": [
       "('harshi', 18)"
      ]
     },
     "execution_count": 8,
     "metadata": {},
     "output_type": "execute_result"
    }
   ],
   "source": [
    "def person(name,age):\n",
    "    return name,age\n",
    "person(\"harshi\",18)"
   ]
  },
  {
   "cell_type": "code",
   "execution_count": 10,
   "id": "65dedf02",
   "metadata": {},
   "outputs": [
    {
     "name": "stdout",
     "output_type": "stream",
     "text": [
      "('harshi', 18)\n"
     ]
    }
   ],
   "source": [
    "def person(name,age):\n",
    "    return name,age\n",
    "b=person(\"harshi\",18)\n",
    "print(b)"
   ]
  },
  {
   "cell_type": "code",
   "execution_count": 12,
   "id": "898f0aaa",
   "metadata": {},
   "outputs": [
    {
     "name": "stdout",
     "output_type": "stream",
     "text": [
      "15\n"
     ]
    }
   ],
   "source": [
    "c=15\n",
    "def update():\n",
    "    c=5\n",
    "print(c)"
   ]
  },
  {
   "cell_type": "code",
   "execution_count": 15,
   "id": "801c4f28",
   "metadata": {},
   "outputs": [
    {
     "name": "stdout",
     "output_type": "stream",
     "text": [
      "5\n"
     ]
    }
   ],
   "source": [
    "c=15\n",
    "def update():\n",
    "    global c\n",
    "    c=5\n",
    "update()\n",
    "print(c)"
   ]
  },
  {
   "cell_type": "code",
   "execution_count": 17,
   "id": "85f6d615",
   "metadata": {},
   "outputs": [
    {
     "name": "stdout",
     "output_type": "stream",
     "text": [
      "<class 'int'>\n"
     ]
    }
   ],
   "source": [
    "c=3\n",
    "print(type(c))"
   ]
  },
  {
   "cell_type": "code",
   "execution_count": 18,
   "id": "7026e5c6",
   "metadata": {},
   "outputs": [
    {
     "name": "stdout",
     "output_type": "stream",
     "text": [
      "15\n",
      "5\n"
     ]
    }
   ],
   "source": [
    "c=15\n",
    "def update():\n",
    "    global c\n",
    "    c=5\n",
    "print(c)\n",
    "update()\n",
    "print(c)"
   ]
  },
  {
   "cell_type": "code",
   "execution_count": 21,
   "id": "a808a734",
   "metadata": {},
   "outputs": [],
   "source": [
    "def factorial(n):\n",
    "    if n==0 or n==1:\n",
    "        return 1\n",
    "    else:\n",
    "        return n * factorial(n-1)\n"
   ]
  },
  {
   "cell_type": "code",
   "execution_count": 22,
   "id": "b232f9f9",
   "metadata": {},
   "outputs": [
    {
     "data": {
      "text/plain": [
       "120"
      ]
     },
     "execution_count": 22,
     "metadata": {},
     "output_type": "execute_result"
    }
   ],
   "source": [
    "factorial(5)"
   ]
  },
  {
   "cell_type": "code",
   "execution_count": 26,
   "id": "0e4eafbe",
   "metadata": {},
   "outputs": [
    {
     "name": "stdout",
     "output_type": "stream",
     "text": [
      "8\n"
     ]
    }
   ],
   "source": [
    "expo = lambda x,y:x**y\n",
    "print(expo(2,3))   "
   ]
  },
  {
   "cell_type": "code",
   "execution_count": 29,
   "id": "ecd002b2",
   "metadata": {},
   "outputs": [
    {
     "data": {
      "text/plain": [
       "16"
      ]
     },
     "execution_count": 29,
     "metadata": {},
     "output_type": "execute_result"
    }
   ],
   "source": [
    "def func(str):\n",
    "    n=len(str)\n",
    "    return n\n",
    "func(\"harshi\")\n",
    "func(\"machine learning\")"
   ]
  },
  {
   "cell_type": "code",
   "execution_count": 30,
   "id": "65a1f680",
   "metadata": {},
   "outputs": [
    {
     "name": "stdout",
     "output_type": "stream",
     "text": [
      "[1, 4, 9]\n"
     ]
    }
   ],
   "source": [
    "#lamba function\n",
    "l1=[1,2,3]\n",
    "new=list(map(lambda x:x**2,l1))\n",
    "print(new)\n"
   ]
  },
  {
   "cell_type": "markdown",
   "id": "1bf33387",
   "metadata": {},
   "source": [
    "# Decorator function"
   ]
  },
  {
   "cell_type": "code",
   "execution_count": 34,
   "id": "ecc8c1e3",
   "metadata": {},
   "outputs": [
    {
     "name": "stdout",
     "output_type": "stream",
     "text": [
      "Hello\n",
      "Time: 0.0009016990661621094\n"
     ]
    }
   ],
   "source": [
    "\n",
    "import time\n",
    "def timetaken(func):\n",
    "    def wrapper():\n",
    "        st=time.time()\n",
    "        func()\n",
    "        end=time.time()\n",
    "        print(\"Time:\",end-st)\n",
    "    return wrapper\n",
    "@timetaken\n",
    "def func():\n",
    "    print(\"Hello\")\n",
    "func()"
   ]
  },
  {
   "cell_type": "code",
   "execution_count": 2,
   "id": "c2d44586",
   "metadata": {},
   "outputs": [
    {
     "data": {
      "text/plain": [
       "'odd'"
      ]
     },
     "execution_count": 2,
     "metadata": {},
     "output_type": "execute_result"
    }
   ],
   "source": [
    "def is_even(n):\n",
    "    if n%2==0:\n",
    "        return \"EVEN\"\n",
    "    else :\n",
    "        return \"odd\"\n",
    "is_even(7)"
   ]
  },
  {
   "cell_type": "code",
   "execution_count": 9,
   "id": "19f0fc10",
   "metadata": {},
   "outputs": [
    {
     "data": {
      "text/plain": [
       "5"
      ]
     },
     "execution_count": 9,
     "metadata": {},
     "output_type": "execute_result"
    }
   ],
   "source": [
    "\n",
    "def maximum(l1):\n",
    "    a=max(l1)\n",
    "    return a\n",
    "l1=[1,2,3,4,5]\n",
    "maximum(l1)"
   ]
  },
  {
   "cell_type": "code",
   "execution_count": 5,
   "id": "b5fe58d3",
   "metadata": {},
   "outputs": [
    {
     "ename": "TypeError",
     "evalue": "square() takes 0 positional arguments but 1 was given",
     "output_type": "error",
     "traceback": [
      "\u001b[1;31m---------------------------------------------------------------------------\u001b[0m",
      "\u001b[1;31mTypeError\u001b[0m                                 Traceback (most recent call last)",
      "Cell \u001b[1;32mIn[5], line 4\u001b[0m\n\u001b[0;32m      2\u001b[0m     \u001b[38;5;28;01mreturn\u001b[39;00m x\u001b[38;5;241m*\u001b[39m\u001b[38;5;241m*\u001b[39mx\n\u001b[0;32m      3\u001b[0m x\u001b[38;5;241m=\u001b[39m\u001b[38;5;241m2\u001b[39m\n\u001b[1;32m----> 4\u001b[0m square(x)\n",
      "\u001b[1;31mTypeError\u001b[0m: square() takes 0 positional arguments but 1 was given"
     ]
    }
   ],
   "source": [
    "def square(*,x):\n",
    "    return x**x\n",
    "x=2\n",
    "square(x)"
   ]
  },
  {
   "cell_type": "code",
   "execution_count": 7,
   "id": "ff055982",
   "metadata": {},
   "outputs": [
    {
     "name": "stdout",
     "output_type": "stream",
     "text": [
      "hello\n",
      "my\n",
      "name\n",
      "is\n",
      "harshita\n"
     ]
    }
   ],
   "source": [
    "def myfun(*args):\n",
    "    for arg in args:\n",
    "        print(arg)\n",
    "myfun(\"hello\",\"my\",\"name\",\"is\",\"harshita\")"
   ]
  },
  {
   "cell_type": "code",
   "execution_count": 8,
   "id": "6831d9c6",
   "metadata": {},
   "outputs": [
    {
     "name": "stdout",
     "output_type": "stream",
     "text": [
      "the first arg is \n",
      "my\n",
      "name\n",
      "is\n",
      "harshita\n"
     ]
    }
   ],
   "source": [
    "def myfun(arg1,*args):\n",
    "    print(\"the first arg is \")\n",
    "    for arg in args:\n",
    "        print(arg)\n",
    "myfun(\"hello\",\"my\",\"name\",\"is\",\"harshita\")"
   ]
  },
  {
   "cell_type": "code",
   "execution_count": null,
   "id": "c06e1d4d",
   "metadata": {},
   "outputs": [],
   "source": [
    "def my_func(**kid):\n",
    "     print(\"His last name is :\"+kid[\"lname\"])\n",
    "my_func(fname)\n",
    "\n"
   ]
  },
  {
   "cell_type": "code",
   "execution_count": 11,
   "id": "4e931ca5",
   "metadata": {},
   "outputs": [
    {
     "name": "stdout",
     "output_type": "stream",
     "text": [
      "enter a integer 45\n"
     ]
    }
   ],
   "source": [
    "while True:\n",
    "    try:\n",
    "        x=int(input(\"enter a integer \"))\n",
    "        break\n",
    "    except ValueError:\n",
    "        print(\"error\")\n",
    "    "
   ]
  },
  {
   "cell_type": "code",
   "execution_count": null,
   "id": "a4946827",
   "metadata": {},
   "outputs": [],
   "source": []
  }
 ],
 "metadata": {
  "kernelspec": {
   "display_name": "Python 3 (ipykernel)",
   "language": "python",
   "name": "python3"
  },
  "language_info": {
   "codemirror_mode": {
    "name": "ipython",
    "version": 3
   },
   "file_extension": ".py",
   "mimetype": "text/x-python",
   "name": "python",
   "nbconvert_exporter": "python",
   "pygments_lexer": "ipython3",
   "version": "3.11.5"
  }
 },
 "nbformat": 4,
 "nbformat_minor": 5
}
