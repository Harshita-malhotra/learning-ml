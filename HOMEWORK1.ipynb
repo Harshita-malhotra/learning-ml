{
 "cells": [
  {
   "cell_type": "code",
   "execution_count": 7,
   "id": "425442bd",
   "metadata": {},
   "outputs": [
    {
     "name": "stdout",
     "output_type": "stream",
     "text": [
      "1.SEARCH NUMBER \n",
      "2.FINDING LARGEST NUMBER IN AN ARRAY \n",
      "3.FINDING SMALLEST NUMBER IN AN ARRAY \n",
      "4.REVERSING AN ARRAY \n",
      "5.ROTATING AN ARRAY Kth POSITION\n",
      "!!ENTER YOUR CHOICE!!(1-5)4\n"
     ]
    }
   ],
   "source": [
    "print(\"1.SEARCH NUMBER \")\n",
    "print(\"2.FINDING LARGEST NUMBER IN AN ARRAY \")\n",
    "print(\"3.FINDING SMALLEST NUMBER IN AN ARRAY \")\n",
    "print(\"4.REVERSING AN ARRAY \")\n",
    "print(\"5.ROTATING AN ARRAY Kth POSITION\")\n",
    "c=int(input(\"!!ENTER YOUR CHOICE!!(1-5)\"))"
   ]
  },
  {
   "cell_type": "code",
   "execution_count": 8,
   "id": "de722bb3",
   "metadata": {},
   "outputs": [],
   "source": [
    "if (c==1):\n",
    "    array = []\n",
    "    n = int(input(\"Enter the number of elements: \"))\n",
    "    n1=int(input(\"Enter element to be searched \"))\n",
    "    for i in range(n):\n",
    "        element = int(input(\"Enter elements: \"))\n",
    "        array.append(element)\n",
    "    for i in range(n):\n",
    "        if(n1==array[i]):\n",
    "            print(f\"{n1} is found at index {i}\")"
   ]
  },
  {
   "cell_type": "code",
   "execution_count": 4,
   "id": "04c5909c",
   "metadata": {},
   "outputs": [
    {
     "name": "stdout",
     "output_type": "stream",
     "text": [
      "Enter the number of elements: 4\n",
      "Enter the elements: 56\n",
      "Enter the elements: 57\n",
      "Enter the elements: 58\n",
      "Enter the elements: 58\n",
      "58\n"
     ]
    }
   ],
   "source": [
    "if(c==2):\n",
    "    array=[]\n",
    "    n = int(input(\"Enter the number of elements: \"))\n",
    "    for i in range(n):\n",
    "        element=int(input(\"Enter the elements: \"))\n",
    "        array.append(element)\n",
    "    print(max(array))"
   ]
  },
  {
   "cell_type": "code",
   "execution_count": 9,
   "id": "ac283965",
   "metadata": {},
   "outputs": [],
   "source": [
    "if(c==3):\n",
    "    array=[]\n",
    "    n = int(input(\"Enter the number of elements: \"))\n",
    "    for i in range(n):\n",
    "        element=int(input(\"Enter the elements: \"))\n",
    "        array.append(element)\n",
    "    print(min(array))"
   ]
  },
  {
   "cell_type": "code",
   "execution_count": 11,
   "id": "aa9f11ec",
   "metadata": {},
   "outputs": [
    {
     "name": "stdout",
     "output_type": "stream",
     "text": [
      "Enter the number of elements: 5\n",
      "Enter the elements: 1\n",
      "Enter the elements: 2\n",
      "Enter the elements: 3\n",
      "Enter the elements: 4\n",
      "Enter the elements: 5\n",
      "[5, 4, 3, 2, 1]\n"
     ]
    }
   ],
   "source": [
    "if(c==4):\n",
    "    array=[]\n",
    "    n_array=[]\n",
    "    n = int(input(\"Enter the number of elements: \"))\n",
    "    for i in range(n):\n",
    "        element=int(input(\"Enter the elements: \"))\n",
    "        array.append(element)\n",
    "    n_array=array[::-1]\n",
    "    print(n_array)          "
   ]
  },
  {
   "cell_type": "code",
   "execution_count": null,
   "id": "d22432fe",
   "metadata": {},
   "outputs": [],
   "source": [
    "if(c==5):\n",
    "    "
   ]
  }
 ],
 "metadata": {
  "kernelspec": {
   "display_name": "Python 3 (ipykernel)",
   "language": "python",
   "name": "python3"
  },
  "language_info": {
   "codemirror_mode": {
    "name": "ipython",
    "version": 3
   },
   "file_extension": ".py",
   "mimetype": "text/x-python",
   "name": "python",
   "nbconvert_exporter": "python",
   "pygments_lexer": "ipython3",
   "version": "3.11.5"
  }
 },
 "nbformat": 4,
 "nbformat_minor": 5
}
