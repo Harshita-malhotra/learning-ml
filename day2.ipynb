{
 "cells": [
  {
   "cell_type": "code",
   "execution_count": 5,
   "id": "8e7e3a12",
   "metadata": {},
   "outputs": [
    {
     "name": "stdout",
     "output_type": "stream",
     "text": [
      "HARSHITA\n"
     ]
    }
   ],
   "source": [
    "a:str=\"HARSHITA\"\n",
    "print(a)\n",
    "b='hello'"
   ]
  },
  {
   "cell_type": "code",
   "execution_count": 2,
   "id": "b924f45f",
   "metadata": {},
   "outputs": [],
   "source": [
    "a=1"
   ]
  },
  {
   "cell_type": "code",
   "execution_count": 3,
   "id": "9d9133db",
   "metadata": {},
   "outputs": [
    {
     "name": "stdout",
     "output_type": "stream",
     "text": [
      "1\n"
     ]
    }
   ],
   "source": [
    "print(a)"
   ]
  },
  {
   "cell_type": "code",
   "execution_count": 6,
   "id": "db0f0c91",
   "metadata": {},
   "outputs": [
    {
     "data": {
      "text/plain": [
       "str"
      ]
     },
     "execution_count": 6,
     "metadata": {},
     "output_type": "execute_result"
    }
   ],
   "source": [
    "type(a)"
   ]
  },
  {
   "cell_type": "code",
   "execution_count": 7,
   "id": "51696870",
   "metadata": {},
   "outputs": [
    {
     "name": "stdout",
     "output_type": "stream",
     "text": [
      " my name is harshita \n",
      "im at innogeeks \n"
     ]
    }
   ],
   "source": [
    "a=''' my name is harshita \n",
    "im at innogeeks '''\n",
    "print(a)"
   ]
  },
  {
   "cell_type": "code",
   "execution_count": 8,
   "id": "040fc405",
   "metadata": {},
   "outputs": [
    {
     "data": {
      "text/plain": [
       "' my name is harshita \\nim at innogeeks '"
      ]
     },
     "execution_count": 8,
     "metadata": {},
     "output_type": "execute_result"
    }
   ],
   "source": [
    "a"
   ]
  },
  {
   "cell_type": "code",
   "execution_count": 1,
   "id": "0cd0e503",
   "metadata": {},
   "outputs": [
    {
     "name": "stdout",
     "output_type": "stream",
     "text": [
      "\n",
      "a\n",
      "a\n",
      "a\n",
      "r\n",
      "r\n",
      "\n"
     ]
    }
   ],
   "source": [
    "x='''\n",
    "a\n",
    "a\n",
    "a\n",
    "r\n",
    "r\n",
    "'''\n",
    "print(x)"
   ]
  },
  {
   "cell_type": "code",
   "execution_count": 10,
   "id": "a39f41c0",
   "metadata": {},
   "outputs": [
    {
     "data": {
      "text/plain": [
       "'\\na\\na\\na\\nr\\n\\nr\\n'"
      ]
     },
     "execution_count": 10,
     "metadata": {},
     "output_type": "execute_result"
    }
   ],
   "source": [
    "x='''\n",
    "a\n",
    "a\n",
    "a\n",
    "r\\n\n",
    "r\n",
    "'''\n",
    "x"
   ]
  },
  {
   "cell_type": "code",
   "execution_count": 11,
   "id": "55249335",
   "metadata": {},
   "outputs": [
    {
     "name": "stdout",
     "output_type": "stream",
     "text": [
      "\n",
      "a\n",
      "a\n",
      "a\n",
      "r\n",
      "\n",
      "r\n",
      "\n"
     ]
    }
   ],
   "source": [
    "print(x)\n",
    "   "
   ]
  },
  {
   "cell_type": "code",
   "execution_count": 12,
   "id": "3f992f74",
   "metadata": {},
   "outputs": [
    {
     "data": {
      "text/plain": [
       "str"
      ]
     },
     "execution_count": 12,
     "metadata": {},
     "output_type": "execute_result"
    }
   ],
   "source": [
    "type(x)"
   ]
  },
  {
   "cell_type": "code",
   "execution_count": 18,
   "id": "daf533fd",
   "metadata": {},
   "outputs": [],
   "source": [
    "#STRING AS ARRAY"
   ]
  },
  {
   "cell_type": "code",
   "execution_count": 15,
   "id": "4353f06e",
   "metadata": {},
   "outputs": [],
   "source": [
    "string=\"innogeeks\""
   ]
  },
  {
   "cell_type": "code",
   "execution_count": 16,
   "id": "a1017140",
   "metadata": {},
   "outputs": [
    {
     "name": "stdout",
     "output_type": "stream",
     "text": [
      "i\n"
     ]
    }
   ],
   "source": [
    "print(string[0])"
   ]
  },
  {
   "cell_type": "code",
   "execution_count": 17,
   "id": "92bb9af7",
   "metadata": {},
   "outputs": [
    {
     "name": "stdout",
     "output_type": "stream",
     "text": [
      "s\n"
     ]
    }
   ],
   "source": [
    "print(string[-1])"
   ]
  },
  {
   "cell_type": "code",
   "execution_count": 19,
   "id": "7a456fc0",
   "metadata": {},
   "outputs": [
    {
     "name": "stdout",
     "output_type": "stream",
     "text": [
      "9\n"
     ]
    }
   ],
   "source": [
    "print(len(string))"
   ]
  },
  {
   "cell_type": "code",
   "execution_count": 21,
   "id": "66534aa6",
   "metadata": {},
   "outputs": [
    {
     "data": {
      "text/plain": [
       "'inno'"
      ]
     },
     "execution_count": 21,
     "metadata": {},
     "output_type": "execute_result"
    }
   ],
   "source": [
    "substr=string[0:4]\n",
    "substr"
   ]
  },
  {
   "cell_type": "code",
   "execution_count": 22,
   "id": "952c88ef",
   "metadata": {},
   "outputs": [
    {
     "data": {
      "text/plain": [
       "''"
      ]
     },
     "execution_count": 22,
     "metadata": {},
     "output_type": "execute_result"
    }
   ],
   "source": [
    "substr=string[0:0]\n",
    "substr"
   ]
  },
  {
   "cell_type": "code",
   "execution_count": 23,
   "id": "a04f8956",
   "metadata": {},
   "outputs": [
    {
     "name": "stdout",
     "output_type": "stream",
     "text": [
      "\n"
     ]
    }
   ],
   "source": [
    "print(substr)"
   ]
  },
  {
   "cell_type": "code",
   "execution_count": 24,
   "id": "9967c59a",
   "metadata": {},
   "outputs": [],
   "source": [
    "substr=string[0:-1]"
   ]
  },
  {
   "cell_type": "code",
   "execution_count": 25,
   "id": "8729032c",
   "metadata": {},
   "outputs": [
    {
     "data": {
      "text/plain": [
       "'innogeek'"
      ]
     },
     "execution_count": 25,
     "metadata": {},
     "output_type": "execute_result"
    }
   ],
   "source": [
    "substr"
   ]
  },
  {
   "cell_type": "code",
   "execution_count": 26,
   "id": "8b6e88e7",
   "metadata": {},
   "outputs": [
    {
     "name": "stdout",
     "output_type": "stream",
     "text": [
      "ing\n"
     ]
    }
   ],
   "source": [
    "substr=string[0:5:2]\n",
    "print(substr)"
   ]
  },
  {
   "cell_type": "markdown",
   "id": "8a62f2ee",
   "metadata": {},
   "source": [
    "substr1=string[-2:-6]\n",
    "substr1"
   ]
  },
  {
   "cell_type": "code",
   "execution_count": 28,
   "id": "81db6a95",
   "metadata": {},
   "outputs": [
    {
     "data": {
      "text/plain": [
       "'innogeeks'"
      ]
     },
     "execution_count": 28,
     "metadata": {},
     "output_type": "execute_result"
    }
   ],
   "source": [
    "substr1=string[::]\n",
    "substr1"
   ]
  },
  {
   "cell_type": "code",
   "execution_count": 29,
   "id": "3ed4b0e5",
   "metadata": {},
   "outputs": [
    {
     "data": {
      "text/plain": [
       "'ogee'"
      ]
     },
     "execution_count": 29,
     "metadata": {},
     "output_type": "execute_result"
    }
   ],
   "source": [
    "substr2=string[-6:-2]\n",
    "substr2"
   ]
  },
  {
   "cell_type": "code",
   "execution_count": 8,
   "id": "bb695568",
   "metadata": {},
   "outputs": [
    {
     "name": "stdout",
     "output_type": "stream",
     "text": [
      "A\n",
      "A  SHETTY\n"
     ]
    }
   ],
   "source": [
    "x='ARUN'\n",
    "y='SHETTY'\n",
    "SUBSTR=x[0]\n",
    "print(SUBSTR)\n",
    "print(SUBSTR+\"  \"+y)"
   ]
  },
  {
   "cell_type": "code",
   "execution_count": null,
   "id": "bc41906d",
   "metadata": {},
   "outputs": [],
   "source": []
  },
  {
   "cell_type": "code",
   "execution_count": null,
   "id": "0a84d950",
   "metadata": {},
   "outputs": [],
   "source": []
  }
 ],
 "metadata": {
  "kernelspec": {
   "display_name": "Python 3 (ipykernel)",
   "language": "python",
   "name": "python3"
  },
  "language_info": {
   "codemirror_mode": {
    "name": "ipython",
    "version": 3
   },
   "file_extension": ".py",
   "mimetype": "text/x-python",
   "name": "python",
   "nbconvert_exporter": "python",
   "pygments_lexer": "ipython3",
   "version": "3.11.5"
  }
 },
 "nbformat": 4,
 "nbformat_minor": 5
}
