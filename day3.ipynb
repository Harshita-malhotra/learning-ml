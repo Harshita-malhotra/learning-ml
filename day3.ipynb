{
 "cells": [
  {
   "cell_type": "code",
   "execution_count": 12,
   "id": "c888dd08",
   "metadata": {},
   "outputs": [
    {
     "name": "stdout",
     "output_type": "stream",
     "text": [
      "enter your name : HARSHITA MALHOTRA\n",
      "my name is: HARSHITA MALHOTRA\n"
     ]
    }
   ],
   "source": [
    "a=input(\"enter your name : \")\n",
    "print(\"my name is: \" +a)"
   ]
  },
  {
   "cell_type": "code",
   "execution_count": 9,
   "id": "01827ba7",
   "metadata": {},
   "outputs": [
    {
     "name": "stdout",
     "output_type": "stream",
     "text": [
      "enter your age: 19\n",
      "HARSHITA is 19 years old.\n"
     ]
    }
   ],
   "source": [
    "b=int(input(\"enter your age: \"))\n",
    "print(a+ \" is \" + str(b)+ \" years old.\")"
   ]
  },
  {
   "cell_type": "code",
   "execution_count": 10,
   "id": "f607c24f",
   "metadata": {},
   "outputs": [
    {
     "name": "stdout",
     "output_type": "stream",
     "text": [
      "HARSHITA is 19 years old\n"
     ]
    }
   ],
   "source": [
    "print(f\"{a} is {b} years old\")"
   ]
  },
  {
   "cell_type": "code",
   "execution_count": 13,
   "id": "b0c446de",
   "metadata": {},
   "outputs": [
    {
     "name": "stdout",
     "output_type": "stream",
     "text": [
      "H.MALHOTRA is 19 years old\n"
     ]
    }
   ],
   "source": [
    "first,last=a.split()\n",
    "print(f\"{first[0]+'.'+last} is {b} years old\")"
   ]
  },
  {
   "cell_type": "code",
   "execution_count": 21,
   "id": "d901ed80",
   "metadata": {},
   "outputs": [
    {
     "name": "stdout",
     "output_type": "stream",
     "text": [
      "ENTER YOUR NAME      harshita malhotra    \n"
     ]
    }
   ],
   "source": [
    "name= input(\"ENTER YOUR NAME \" )"
   ]
  },
  {
   "cell_type": "code",
   "execution_count": 22,
   "id": "50759337",
   "metadata": {},
   "outputs": [
    {
     "name": "stdout",
     "output_type": "stream",
     "text": [
      "     Harshita Malhotra    \n",
      "harshita malhotra\n",
      "     harshita malhotra    \n",
      "     HARSHITA MALHOTRA    \n"
     ]
    }
   ],
   "source": [
    "print(name.title())#upper case to 1st letter\n",
    "print(name.strip())#remove leading and  trailing spaces\n",
    "print(name.lower())\n",
    "print(name.upper())"
   ]
  },
  {
   "cell_type": "code",
   "execution_count": 23,
   "id": "6e89e8f9",
   "metadata": {},
   "outputs": [
    {
     "name": "stdout",
     "output_type": "stream",
     "text": [
      "26\n",
      "<class 'str'>\n"
     ]
    }
   ],
   "source": [
    "print(len(name))\n",
    "print(type(name))"
   ]
  },
  {
   "cell_type": "code",
   "execution_count": 25,
   "id": "7892289e",
   "metadata": {},
   "outputs": [
    {
     "name": "stdout",
     "output_type": "stream",
     "text": [
      "harshita gmail.com\n"
     ]
    }
   ],
   "source": [
    "email=\"harshita@gmail.com\"\n",
    "first,mail=email.split(\"@\")\n",
    "print(first,mail)"
   ]
  },
  {
   "cell_type": "code",
   "execution_count": 26,
   "id": "737592b1",
   "metadata": {},
   "outputs": [
    {
     "name": "stdout",
     "output_type": "stream",
     "text": [
      "enter the 1st number20\n",
      "enter the 2nd number 45\n",
      "2nd is larger \n"
     ]
    }
   ],
   "source": [
    "a= int(input(\"enter the 1st number\"))\n",
    "b=int(input(\"enter the 2nd number \"))\n",
    "if a>b:\n",
    "    print(\"1st number is largest\")\n",
    "else:\n",
    "    print(\"2nd is larger \")"
   ]
  },
  {
   "cell_type": "code",
   "execution_count": 30,
   "id": "eb31b31c",
   "metadata": {},
   "outputs": [
    {
     "name": "stdout",
     "output_type": "stream",
     "text": [
      "enter the number 67\n",
      "THE NUMBER 67 is prime\n"
     ]
    }
   ],
   "source": [
    "#prime number \n",
    "n=int(input(\"enter the number \"))\n",
    "c=0\n",
    "for i in range (2,int(n/2)+1):\n",
    "     if n%i==0:\n",
    "        c=c+1;\n",
    "        break;\n",
    "if(c>=1):\n",
    "    print(f\"THE NUMBER {n} IS NOT PRIME\")\n",
    "else:\n",
    "    print(f\"THE NUMBER {n} is prime\")\n",
    "    "
   ]
  },
  {
   "cell_type": "code",
   "execution_count": 31,
   "id": "ade7cc76",
   "metadata": {},
   "outputs": [
    {
     "name": "stdout",
     "output_type": "stream",
     "text": [
      "enter the number 46\n",
      "even\n"
     ]
    }
   ],
   "source": [
    "n=int(input(\"enter the number \"))\n",
    "if n%2==0:\n",
    "    print(\"even\")\n",
    "else:\n",
    "    print(\"odd\")"
   ]
  },
  {
   "cell_type": "markdown",
   "id": "503599d7",
   "metadata": {},
   "source": [
    "HOMEWORK"
   ]
  },
  {
   "cell_type": "code",
   "execution_count": 15,
   "id": "e6490c8f",
   "metadata": {},
   "outputs": [
    {
     "name": "stdout",
     "output_type": "stream",
     "text": [
      "1,\n"
     ]
    }
   ],
   "source": [
    "c=0\n",
    "for i in range (1,101):\n",
    "    for j in range(1,101):\n",
    "        if i%j==0:\n",
    "            c=c+1\n",
    "    if(c<=2):\n",
    "        print(f\"{i},\")\n",
    "\n",
    "         \n",
    "        \n"
   ]
  },
  {
   "cell_type": "code",
   "execution_count": 20,
   "id": "19bf975c",
   "metadata": {},
   "outputs": [
    {
     "name": "stdout",
     "output_type": "stream",
     "text": [
      "enter the 1st number: 34\n",
      "enter the 2nd number: 56\n",
      "enter the 3rd number: 78\n",
      "78 is largest\n"
     ]
    }
   ],
   "source": [
    "n=int(input(\"enter the 1st number: \"))\n",
    "n1=int(input(\"enter the 2nd number: \"))\n",
    "n2=int(input(\"enter the 3rd number: \"))\n",
    "if n>n1:\n",
    "    if n>n2:\n",
    "        print(f\"{n} is the largest among three \")\n",
    "    else:\n",
    "        print(f\"{n2} is the largest number \")\n",
    "elif n1>n2:\n",
    "    print(f\"{n1} is the largest number\")\n",
    "else:\n",
    "    print(f\"{n2} is largest\")\n",
    "\n"
   ]
  },
  {
   "cell_type": "code",
   "execution_count": null,
   "id": "5d4443ca",
   "metadata": {},
   "outputs": [],
   "source": [
    "m=int(input(\"enter the marks of maths \"))\n",
    "p=int(input(\"enter the marks of physics \"))\n",
    "c=int(input(\"enter the marks of chemistry \"))\n",
    "ip=int(input(\"enter the marks of informatics practices \"))\n",
    "en=int(input(\"enter the marks of english \"))\n",
    "per=(m+p+c+ip+en)/5\n",
    "if (per>=90 and per<100):\n",
    "    print(\"grade A*\")\n",
    "elif (per>=80 and per<90):\n",
    "    print(\"grade A\")\n",
    "elif (per>=70 and per<80):\n",
    "    print(\"grade B\")\n",
    "elif (per>=60 and per<70):\n",
    "    print(\"grade C\")\n",
    "elif (per>=50 and per<60):\n",
    "    print(\"grade D\")\n",
    "elif (per>=40 and per<50):\n",
    "    print(\"grade E\")\n",
    "else:\n",
    "    print(\"fail\")\n",
    "    \n",
    "\n"
   ]
  },
  {
   "cell_type": "code",
   "execution_count": null,
   "id": "70dbbf89",
   "metadata": {},
   "outputs": [],
   "source": []
  },
  {
   "cell_type": "code",
   "execution_count": null,
   "id": "354f0407",
   "metadata": {},
   "outputs": [],
   "source": []
  }
 ],
 "metadata": {
  "kernelspec": {
   "display_name": "Python 3 (ipykernel)",
   "language": "python",
   "name": "python3"
  },
  "language_info": {
   "codemirror_mode": {
    "name": "ipython",
    "version": 3
   },
   "file_extension": ".py",
   "mimetype": "text/x-python",
   "name": "python",
   "nbconvert_exporter": "python",
   "pygments_lexer": "ipython3",
   "version": "3.11.5"
  }
 },
 "nbformat": 4,
 "nbformat_minor": 5
}
