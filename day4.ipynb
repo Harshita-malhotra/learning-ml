{
 "cells": [
  {
   "cell_type": "markdown",
   "id": "4996c6e5",
   "metadata": {},
   "source": [
    "list"
   ]
  },
  {
   "cell_type": "code",
   "execution_count": null,
   "id": "c47b78f5",
   "metadata": {},
   "outputs": [],
   "source": [
    "list1=[1,2,3,'a',\"harshi\"]\n",
    "print(list1[4])"
   ]
  },
  {
   "cell_type": "code",
   "execution_count": 5,
   "id": "3dfd9cbc",
   "metadata": {},
   "outputs": [
    {
     "name": "stdout",
     "output_type": "stream",
     "text": [
      "1\n",
      "2\n",
      "3\n",
      "a\n",
      "harshi\n"
     ]
    }
   ],
   "source": [
    "list1=[1,2,3,'a',\"harshi\"]\n",
    "for i in list1:\n",
    "    print(i)"
   ]
  },
  {
   "cell_type": "code",
   "execution_count": 9,
   "id": "53fcf668",
   "metadata": {},
   "outputs": [
    {
     "name": "stdout",
     "output_type": "stream",
     "text": [
      "h\n",
      "r\n",
      "h\n"
     ]
    }
   ],
   "source": [
    "list2=['h','a','r','s','h','i']\n",
    "new=list2[::2]\n",
    "#print(new)\n",
    "for i in new:\n",
    "    print(i)\n",
    "      "
   ]
  },
  {
   "cell_type": "code",
   "execution_count": 10,
   "id": "096b86d0",
   "metadata": {},
   "outputs": [
    {
     "name": "stdout",
     "output_type": "stream",
     "text": [
      "['m', 'h', 'r', 'h']\n"
     ]
    }
   ],
   "source": [
    "list3=['h','a','r','s','h','i','m']\n",
    "new=list3[::-2]\n",
    "print(new)"
   ]
  },
  {
   "cell_type": "code",
   "execution_count": 11,
   "id": "d7e78217",
   "metadata": {},
   "outputs": [
    {
     "name": "stdout",
     "output_type": "stream",
     "text": [
      "['h', 'r', 'h', 'm']\n"
     ]
    }
   ],
   "source": [
    "list3=['h','a','r','s','h','i','m']\n",
    "new=list3[::2]\n",
    "print(new)"
   ]
  },
  {
   "cell_type": "markdown",
   "id": "acf45467",
   "metadata": {},
   "source": [
    "functions"
   ]
  },
  {
   "cell_type": "code",
   "execution_count": 17,
   "id": "c283b25c",
   "metadata": {},
   "outputs": [
    {
     "name": "stdout",
     "output_type": "stream",
     "text": [
      "[4, 5, 2, 3, 1, 7]\n",
      "[1, 2, 3, 4, 5, 7]\n",
      "[7, 5, 4, 3, 2, 1]\n"
     ]
    }
   ],
   "source": [
    "l4=[4,5,2,3,1]\n",
    "l4.append(7)\n",
    "print(l4)\n",
    "l4.sort()\n",
    "print(l4)\n",
    "l4.sort(reverse=True)\n",
    "print(l4)"
   ]
  },
  {
   "cell_type": "code",
   "execution_count": 48,
   "id": "b8f18cbe",
   "metadata": {},
   "outputs": [
    {
     "name": "stdout",
     "output_type": "stream",
     "text": [
      "False\n",
      "False\n"
     ]
    }
   ],
   "source": [
    "l5=['h','d','f','e']\n",
    "l6=['d','c','a','f']\n",
    "print(l5==l6)\n",
    "print(l5<l6)"
   ]
  },
  {
   "cell_type": "code",
   "execution_count": 57,
   "id": "07de457a",
   "metadata": {},
   "outputs": [
    {
     "name": "stdout",
     "output_type": "stream",
     "text": [
      "False\n"
     ]
    },
    {
     "ename": "TypeError",
     "evalue": "'str' object cannot be interpreted as an integer",
     "output_type": "error",
     "traceback": [
      "\u001b[1;31m---------------------------------------------------------------------------\u001b[0m",
      "\u001b[1;31mTypeError\u001b[0m                                 Traceback (most recent call last)",
      "Cell \u001b[1;32mIn[57], line 4\u001b[0m\n\u001b[0;32m      2\u001b[0m l8\u001b[38;5;241m=\u001b[39m[\u001b[38;5;124m'\u001b[39m\u001b[38;5;124ma\u001b[39m\u001b[38;5;124m'\u001b[39m,\u001b[38;5;124m'\u001b[39m\u001b[38;5;124mb\u001b[39m\u001b[38;5;124m'\u001b[39m,\u001b[38;5;124m'\u001b[39m\u001b[38;5;124mc\u001b[39m\u001b[38;5;124m'\u001b[39m,\u001b[38;5;124m'\u001b[39m\u001b[38;5;124mk\u001b[39m\u001b[38;5;124m'\u001b[39m]\n\u001b[0;32m      3\u001b[0m \u001b[38;5;28mprint\u001b[39m(l7\u001b[38;5;241m==\u001b[39ml8)\n\u001b[1;32m----> 4\u001b[0m \u001b[38;5;28mprint\u001b[39m(\u001b[38;5;28mchr\u001b[39m(\u001b[38;5;124m'\u001b[39m\u001b[38;5;124ma\u001b[39m\u001b[38;5;124m'\u001b[39m))\n",
      "\u001b[1;31mTypeError\u001b[0m: 'str' object cannot be interpreted as an integer"
     ]
    }
   ],
   "source": [
    "l7=['a','b','c','d']\n",
    "l8=['a','b','c','k']\n",
    "print(l7==l8)\n",
    "print(asci('a'))"
   ]
  },
  {
   "cell_type": "markdown",
   "id": "e82de3a7",
   "metadata": {},
   "source": [
    "TUPLE\n",
    "*indexed\n",
    "*immutable"
   ]
  },
  {
   "cell_type": "code",
   "execution_count": 19,
   "id": "f85dd3ba",
   "metadata": {},
   "outputs": [
    {
     "name": "stdout",
     "output_type": "stream",
     "text": [
      "[1, 2, 3, 4]\n"
     ]
    }
   ],
   "source": [
    "t=(1,2,3,4)\n",
    "a=list(t)\n",
    "print(a)"
   ]
  },
  {
   "cell_type": "code",
   "execution_count": 23,
   "id": "c176f285",
   "metadata": {},
   "outputs": [
    {
     "name": "stdout",
     "output_type": "stream",
     "text": [
      "(1, 2, 3, 4)\n"
     ]
    }
   ],
   "source": [
    "t=(1,2,3,4)\n",
    "b=(1,)\n",
    "a=list(t)\n",
    "t=tuple(a)\n",
    "print(t)"
   ]
  },
  {
   "cell_type": "code",
   "execution_count": 29,
   "id": "c69ed53c",
   "metadata": {},
   "outputs": [
    {
     "name": "stdout",
     "output_type": "stream",
     "text": [
      "(1, 2, 3, 4, 6, 4, 5, 6)\n"
     ]
    },
    {
     "data": {
      "text/plain": [
       "True"
      ]
     },
     "execution_count": 29,
     "metadata": {},
     "output_type": "execute_result"
    }
   ],
   "source": [
    "t1=(1,2,3,4,6)\n",
    "t2=(4,5,6)\n",
    "#y=t1+t2\n",
    "t1+=t2\n",
    "print(t1)\n",
    "\n",
    "t1<t2"
   ]
  },
  {
   "cell_type": "code",
   "execution_count": 30,
   "id": "aa134d38",
   "metadata": {},
   "outputs": [
    {
     "data": {
      "text/plain": [
       "'l'"
      ]
     },
     "execution_count": 30,
     "metadata": {},
     "output_type": "execute_result"
    }
   ],
   "source": [
    "l=[\"machine\",[\"learning\",3]]\n",
    "l[1][0][0]"
   ]
  },
  {
   "cell_type": "code",
   "execution_count": 43,
   "id": "933aeef0",
   "metadata": {},
   "outputs": [
    {
     "name": "stdout",
     "output_type": "stream",
     "text": [
      "dict_keys([1, 2, 3, 4])\n",
      "dict_values(['harshita', 'akshita', 'shilpi', 'chand'])\n"
     ]
    }
   ],
   "source": [
    "d={1:\"harshita\",2:\"akshita\",3:\"shilpi\",4:\"chand\"}\n",
    "print(d.keys())\n",
    "print(d.values())"
   ]
  },
  {
   "cell_type": "code",
   "execution_count": 34,
   "id": "503e9e4c",
   "metadata": {},
   "outputs": [
    {
     "name": "stdout",
     "output_type": "stream",
     "text": [
      "shilpi\n"
     ]
    }
   ],
   "source": [
    "d={1:\"harshita\",2:\"akshita\",3:\"shilpi\",4:\"chand\"}\n",
    "print(d.get(3))"
   ]
  },
  {
   "cell_type": "code",
   "execution_count": 39,
   "id": "24d10a25",
   "metadata": {
    "scrolled": true
   },
   "outputs": [
    {
     "name": "stdout",
     "output_type": "stream",
     "text": [
      "1\n",
      "harshita\n",
      "2\n",
      "akshita\n",
      "3\n",
      "shilpi\n",
      "4\n",
      "chand\n"
     ]
    }
   ],
   "source": [
    "d={1:\"harshita\",2:\"akshita\",3:\"shilpi\",4:\"chand\"}\n",
    "for i in d:\n",
    "    print(i)\n",
    "    print(d[i])"
   ]
  },
  {
   "cell_type": "code",
   "execution_count": 46,
   "id": "462c2d25",
   "metadata": {},
   "outputs": [
    {
     "name": "stdout",
     "output_type": "stream",
     "text": [
      "{'name': 'harshita', 'add': 'nagina', 'hostel': 'gargi', 'libid': 23556, 'college': 'kiet'}\n",
      "dict_keys(['name', 'add', 'hostel', 'libid', 'college'])\n",
      "dict_values(['harshita', 'nagina', 'gargi', 23556, 'kiet'])\n"
     ]
    }
   ],
   "source": [
    "d={\"name\":\"harshita\",\"add\":\"nagina\",\"hostel\":\"gargi\",\"libid\":23556}\n",
    "d.get(\"libid\")\n",
    "d[\"college\"]=\"kiet\"\n",
    "print(d)\n",
    "print(d.keys())\n",
    "print(d.values())"
   ]
  },
  {
   "cell_type": "code",
   "execution_count": null,
   "id": "7a6b6a33",
   "metadata": {},
   "outputs": [],
   "source": []
  }
 ],
 "metadata": {
  "kernelspec": {
   "display_name": "Python 3 (ipykernel)",
   "language": "python",
   "name": "python3"
  },
  "language_info": {
   "codemirror_mode": {
    "name": "ipython",
    "version": 3
   },
   "file_extension": ".py",
   "mimetype": "text/x-python",
   "name": "python",
   "nbconvert_exporter": "python",
   "pygments_lexer": "ipython3",
   "version": "3.11.5"
  }
 },
 "nbformat": 4,
 "nbformat_minor": 5
}
