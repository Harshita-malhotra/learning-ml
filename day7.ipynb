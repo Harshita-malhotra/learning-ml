{
 "cells": [
  {
   "cell_type": "code",
   "execution_count": 3,
   "id": "b0365ec1",
   "metadata": {},
   "outputs": [
    {
     "data": {
      "text/plain": [
       "array([4, 3, 5])"
      ]
     },
     "execution_count": 3,
     "metadata": {},
     "output_type": "execute_result"
    }
   ],
   "source": [
    "import numpy as np \n",
    "arr1=np.array([1,4,3,5,6,7,4,2,5,6])\n",
    "n_arr1=arr1[1:4]\n",
    "n_arr1"
   ]
  },
  {
   "cell_type": "code",
   "execution_count": 20,
   "id": "c8b7e6f3",
   "metadata": {},
   "outputs": [
    {
     "data": {
      "text/plain": [
       "array([[ 1,  2],\n",
       "       [ 6,  7],\n",
       "       [11, 12]])"
      ]
     },
     "execution_count": 20,
     "metadata": {},
     "output_type": "execute_result"
    }
   ],
   "source": [
    "arr2=np.array([[1,2,3,4,5],[6,7,8,9,10],[11,12,13,14,15]])\n",
    "#print(arr2)\n",
    "#arr2[0,1]\n",
    "#arr2[0,0:2]\n",
    "#arr2[0:2,0:2]\n",
    "arr2[0:3,0:2] #1st dim is row and second dim is column"
   ]
  },
  {
   "cell_type": "code",
   "execution_count": 21,
   "id": "14669f9f",
   "metadata": {},
   "outputs": [
    {
     "name": "stdout",
     "output_type": "stream",
     "text": [
      "[[[ 1  2]\n",
      "  [ 3  4]\n",
      "  [ 5  6]]\n",
      "\n",
      " [[ 7  8]\n",
      "  [ 8  9]\n",
      "  [ 9 10]]\n",
      "\n",
      " [[11 12]\n",
      "  [13 14]\n",
      "  [14 15]]]\n"
     ]
    }
   ],
   "source": [
    "arr3=np.array([[[1,2],[3,4],[5,6]],[[7,8],[8,9],[9,10]],[[11,12],[13,14],[14,15]]])\n",
    "print(arr3)\n"
   ]
  },
  {
   "cell_type": "code",
   "execution_count": 36,
   "id": "0f0adf05",
   "metadata": {},
   "outputs": [
    {
     "name": "stdout",
     "output_type": "stream",
     "text": [
      "[[ 3  4]\n",
      " [ 8  9]\n",
      " [13 14]]\n"
     ]
    }
   ],
   "source": [
    "print(arr3[0:,1,0:2])"
   ]
  },
  {
   "cell_type": "code",
   "execution_count": 34,
   "id": "7ee989fb",
   "metadata": {},
   "outputs": [
    {
     "data": {
      "text/plain": [
       "array([[[ 1,  2],\n",
       "        [ 3,  4],\n",
       "        [ 5,  6]],\n",
       "\n",
       "       [[ 7,  8],\n",
       "        [ 8,  9],\n",
       "        [ 9, 10]],\n",
       "\n",
       "       [[11, 12],\n",
       "        [13, 14],\n",
       "        [14, 15]]])"
      ]
     },
     "execution_count": 34,
     "metadata": {},
     "output_type": "execute_result"
    }
   ],
   "source": [
    "arr3\n"
   ]
  },
  {
   "cell_type": "code",
   "execution_count": 45,
   "id": "1afb92ab",
   "metadata": {},
   "outputs": [
    {
     "name": "stdout",
     "output_type": "stream",
     "text": [
      "[100   2   3   4   5   6   7   8]\n",
      "[1 2 3 4 5 6 7 8]\n"
     ]
    }
   ],
   "source": [
    "arr4=np.array([1,2,3,4,5,6,7,8])\n",
    "n_arr=arr4.copy()\n",
    "arr4[0]=100\n",
    "print(arr4)\n",
    "print(n_arr)"
   ]
  },
  {
   "cell_type": "code",
   "execution_count": 46,
   "id": "c0ad9d10",
   "metadata": {},
   "outputs": [
    {
     "name": "stdout",
     "output_type": "stream",
     "text": [
      "[100   2   3   4   5   6   7   8]\n",
      "[20  2  3  4  5  6  7  8]\n"
     ]
    }
   ],
   "source": [
    "arr4=np.array([1,2,3,4,5,6,7,8])\n",
    "n_arr=arr4.copy()\n",
    "arr4[0]=100\n",
    "n_arr[0]=20\n",
    "print(arr4)\n",
    "print(n_arr)"
   ]
  },
  {
   "cell_type": "code",
   "execution_count": 47,
   "id": "9cc723fa",
   "metadata": {},
   "outputs": [
    {
     "name": "stdout",
     "output_type": "stream",
     "text": [
      "[1 2 3 4 5 6 7 8]\n",
      "[1 2 3 4 5 6 7 8]\n",
      "[2 3 4 5 6 7 8]\n"
     ]
    }
   ],
   "source": [
    "arr4=np.array([1,2,3,4,5,6,7,8])\n",
    "copy_arr=arr4.copy()\n",
    "view_array=arr4[1:]\n",
    "print(arr4)\n",
    "print(copy_arr)\n",
    "print(view_array)"
   ]
  },
  {
   "cell_type": "markdown",
   "id": "6f8c6179",
   "metadata": {},
   "source": [
    "copy can be also be done as "
   ]
  },
  {
   "cell_type": "code",
   "execution_count": 52,
   "id": "b443ea69",
   "metadata": {},
   "outputs": [
    {
     "name": "stdout",
     "output_type": "stream",
     "text": [
      "[5 6 7 8 8 9]\n",
      "[5 6 7 8 8 9]\n"
     ]
    }
   ],
   "source": [
    "arr5=np.array([5,6,7,8,8,9])\n",
    "cop_array=arr5.copy()\n",
    "arr_view=arr5.view()\n",
    "print(cop_array)\n",
    "print(arr_view)"
   ]
  },
  {
   "cell_type": "code",
   "execution_count": 54,
   "id": "d99e004b",
   "metadata": {},
   "outputs": [
    {
     "name": "stdout",
     "output_type": "stream",
     "text": [
      "[10  6  7  8  8  9]\n",
      "[5 6 7 8 8 9]\n",
      "[10  6  7  8  8  9]\n"
     ]
    }
   ],
   "source": [
    "arr5=np.array([5,6,7,8,8,9])\n",
    "cop_array=arr5.copy()\n",
    "arr_view=arr5.view()\n",
    "arr5[0]=10\n",
    "print(arr5)\n",
    "print(cop_array)\n",
    "print(arr_view)"
   ]
  },
  {
   "cell_type": "code",
   "execution_count": 60,
   "id": "346365b7",
   "metadata": {},
   "outputs": [
    {
     "name": "stdout",
     "output_type": "stream",
     "text": [
      "[1. 2. 3.]\n",
      "[1 2 3]\n",
      "['1' '2' '3']\n"
     ]
    }
   ],
   "source": [
    "arr6=np.array([1,2,3],dtype='float64')\n",
    "print(arr6)\n",
    "arr6=np.array([1,2,3],dtype='int')\n",
    "print(arr6)\n",
    "arr6=np.array([1,2,3],dtype='str')\n",
    "print(arr6)"
   ]
  },
  {
   "cell_type": "code",
   "execution_count": null,
   "id": "04672321",
   "metadata": {},
   "outputs": [],
   "source": []
  }
 ],
 "metadata": {
  "kernelspec": {
   "display_name": "Python 3 (ipykernel)",
   "language": "python",
   "name": "python3"
  },
  "language_info": {
   "codemirror_mode": {
    "name": "ipython",
    "version": 3
   },
   "file_extension": ".py",
   "mimetype": "text/x-python",
   "name": "python",
   "nbconvert_exporter": "python",
   "pygments_lexer": "ipython3",
   "version": "3.11.5"
  }
 },
 "nbformat": 4,
 "nbformat_minor": 5
}
