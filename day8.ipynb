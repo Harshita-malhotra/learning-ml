{
 "cells": [
  {
   "cell_type": "code",
   "execution_count": 19,
   "id": "fc2b553e",
   "metadata": {},
   "outputs": [
    {
     "name": "stdout",
     "output_type": "stream",
     "text": [
      "(2, 3)\n",
      "2\n",
      "6\n",
      "7\n",
      "1\n",
      "(7,)\n"
     ]
    },
    {
     "data": {
      "text/plain": [
       "numpy.ndarray"
      ]
     },
     "execution_count": 19,
     "metadata": {},
     "output_type": "execute_result"
    }
   ],
   "source": [
    "import numpy as np \n",
    "arra=np.array([1,24,6,4,3,67,23])\n",
    "arr=np.array([[1,2,3],[4,6,7]])\n",
    "print(arr.shape) #order\n",
    "print(arr.ndim) #dimension\n",
    "print(arr.size) #no of elements\n",
    "print(arra.size)\n",
    "print(arra.ndim)\n",
    "print(arra.shape)\n",
    "type(arr)"
   ]
  },
  {
   "cell_type": "code",
   "execution_count": 7,
   "id": "b000c907",
   "metadata": {},
   "outputs": [
    {
     "name": "stdout",
     "output_type": "stream",
     "text": [
      "[[ 1  2  3  4  5  6]\n",
      " [ 7  8  9 10 11 12]]\n"
     ]
    }
   ],
   "source": [
    "arr1=np.array([1,2,3,4,5,6,7,8,9,10,11,12])\n",
    "reshaped_arr=arr1.reshape((2,6))\n",
    "print(reshaped_arr)"
   ]
  },
  {
   "cell_type": "code",
   "execution_count": 9,
   "id": "b49b3e95",
   "metadata": {},
   "outputs": [
    {
     "name": "stdout",
     "output_type": "stream",
     "text": [
      "[[ 1  2  3  4]\n",
      " [ 5  6  7  8]\n",
      " [ 9 10 11 12]]\n"
     ]
    }
   ],
   "source": [
    "reshaped_arr1=arr1.reshape((3,4))\n",
    "print(reshaped_arr1)"
   ]
  },
  {
   "cell_type": "code",
   "execution_count": 13,
   "id": "79215f69",
   "metadata": {},
   "outputs": [
    {
     "data": {
      "text/plain": [
       "array([[[ 1,  2,  3],\n",
       "        [ 4,  5,  6]],\n",
       "\n",
       "       [[ 7,  8,  9],\n",
       "        [10, 11, 12]]])"
      ]
     },
     "execution_count": 13,
     "metadata": {},
     "output_type": "execute_result"
    }
   ],
   "source": [
    "reshaped_arr2=arr1.reshape((2,2,-1)) #if -1 is given then automatically it takes the 3rd dimension\n",
    "reshaped_arr2"
   ]
  },
  {
   "cell_type": "code",
   "execution_count": 17,
   "id": "0abcebc3",
   "metadata": {},
   "outputs": [
    {
     "data": {
      "text/plain": [
       "array([ 1,  2,  3,  4,  5,  6,  7,  8,  9, 10, 11, 12])"
      ]
     },
     "execution_count": 17,
     "metadata": {},
     "output_type": "execute_result"
    }
   ],
   "source": [
    "reshaped_arr3=arr1.reshape((-1)) #changed to 1d array(12 can also be given as the dimension)\n",
    "reshaped_arr3"
   ]
  },
  {
   "cell_type": "code",
   "execution_count": 22,
   "id": "1b3901bf",
   "metadata": {},
   "outputs": [
    {
     "name": "stdout",
     "output_type": "stream",
     "text": [
      "[[[ 1  2]\n",
      "  [ 3  4]\n",
      "  [ 5  6]]\n",
      "\n",
      " [[ 7  8]\n",
      "  [ 8  9]\n",
      "  [ 9 10]]\n",
      "\n",
      " [[11 12]\n",
      "  [13 14]\n",
      "  [14 15]]]\n"
     ]
    },
    {
     "data": {
      "text/plain": [
       "15"
      ]
     },
     "execution_count": 22,
     "metadata": {},
     "output_type": "execute_result"
    }
   ],
   "source": [
    "arr8=np.array([[[1,2],[3,4],[5,6]],[[7,8],[8,9],[9,10]],[[11,12],[13,14],[14,15]]]) #slicing\n",
    "print(arr8)\n",
    "arr8[2,2,1] #(1st check height,thenrow of that block,then column)"
   ]
  },
  {
   "cell_type": "code",
   "execution_count": 23,
   "id": "6e72ee9d",
   "metadata": {},
   "outputs": [
    {
     "name": "stdout",
     "output_type": "stream",
     "text": [
      "1\n",
      "2\n",
      "3\n",
      "4\n",
      "5\n",
      "6\n",
      "7\n",
      "8\n",
      "9\n",
      "10\n",
      "11\n",
      "12\n"
     ]
    }
   ],
   "source": [
    "for i in arr1:\n",
    "    print(i)"
   ]
  },
  {
   "cell_type": "code",
   "execution_count": 24,
   "id": "e06cdcc6",
   "metadata": {},
   "outputs": [
    {
     "name": "stdout",
     "output_type": "stream",
     "text": [
      "[1 2 3]\n",
      "[4 6 7]\n"
     ]
    }
   ],
   "source": [
    "for i in arr:\n",
    "    print(i)"
   ]
  },
  {
   "cell_type": "code",
   "execution_count": 25,
   "id": "efff0aa6",
   "metadata": {},
   "outputs": [
    {
     "name": "stdout",
     "output_type": "stream",
     "text": [
      "1\n",
      "2\n",
      "3\n",
      "4\n",
      "6\n",
      "7\n"
     ]
    }
   ],
   "source": [
    "arr=np.array([[1,2,3],[4,6,7]])\n",
    "for i in np.nditer(arr): #giving all elments of array(independent of dimension)\n",
    "    print(i)"
   ]
  },
  {
   "cell_type": "code",
   "execution_count": 28,
   "id": "87b93af3",
   "metadata": {},
   "outputs": [
    {
     "name": "stdout",
     "output_type": "stream",
     "text": [
      "[-0.98803162 -0.30481062  0.89399666]\n"
     ]
    }
   ],
   "source": [
    "arr2=np.array([30,60,90]) #value taken in radians \n",
    "sin_arr=np.sin(arr2)\n",
    "print(sin_arr)"
   ]
  },
  {
   "cell_type": "code",
   "execution_count": 31,
   "id": "7efa3bee",
   "metadata": {},
   "outputs": [
    {
     "data": {
      "text/plain": [
       "array([[22, 25],\n",
       "       [64, 73]])"
      ]
     },
     "execution_count": 31,
     "metadata": {},
     "output_type": "execute_result"
    }
   ],
   "source": [
    "matrix_a=np.array([[1,2],[4,5]])\n",
    "matrix_b=np.array([[6,7],[8,9]])\n",
    "result=np.dot(matrix_a,matrix_b)\n",
    "result"
   ]
  },
  {
   "cell_type": "code",
   "execution_count": null,
   "id": "38883189",
   "metadata": {},
   "outputs": [],
   "source": []
  },
  {
   "cell_type": "code",
   "execution_count": null,
   "id": "8e39a100",
   "metadata": {},
   "outputs": [],
   "source": []
  }
 ],
 "metadata": {
  "kernelspec": {
   "display_name": "Python 3 (ipykernel)",
   "language": "python",
   "name": "python3"
  },
  "language_info": {
   "codemirror_mode": {
    "name": "ipython",
    "version": 3
   },
   "file_extension": ".py",
   "mimetype": "text/x-python",
   "name": "python",
   "nbconvert_exporter": "python",
   "pygments_lexer": "ipython3",
   "version": "3.11.5"
  }
 },
 "nbformat": 4,
 "nbformat_minor": 5
}
